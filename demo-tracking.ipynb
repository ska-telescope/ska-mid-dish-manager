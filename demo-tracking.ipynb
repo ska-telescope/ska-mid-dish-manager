{
 "cells": [
  {
   "cell_type": "markdown",
   "metadata": {},
   "source": [
    "### Dependencies"
   ]
  },
  {
   "cell_type": "code",
   "execution_count": 1,
   "metadata": {},
   "outputs": [],
   "source": [
    "import time\n",
    "from tango import DeviceProxy\n",
    "from src.ska_mid_dish_manager.models.dish_enums import TrackTableLoadMode\n",
    "\n",
    "DM_TRL = \"tango://tango-databaseds.miditf-lmc-003-karoo-sims.svc.miditf.internal.skao.int:10000/mid-dish/dish-manager/SKA003\"\n",
    "\n",
    "# get current tai wrt SKA epoch\n",
    "def get_current_tai_timestamp():\n",
    "    return time.time() - 946684763.0"
   ]
  },
  {
   "cell_type": "markdown",
   "metadata": {},
   "source": [
    "### Reset"
   ]
  },
  {
   "cell_type": "code",
   "execution_count": null,
   "metadata": {},
   "outputs": [],
   "source": [
    "# Reset\n",
    "dm_manager_proxy = DeviceProxy(DM_TRL)\n",
    "dm_manager_proxy.SetStowMode()\n",
    "dm_manager_proxy.SetStandbyLPMode()\n",
    "dm_manager_proxy.SetStandbyFPMode()\n",
    "dm_manager_proxy.configureband1(True)\n",
    "dm_manager_proxy.SetOperateMode()"
   ]
  },
  {
   "cell_type": "markdown",
   "metadata": {},
   "source": [
    "### Initial Track (New)"
   ]
  },
  {
   "cell_type": "code",
   "execution_count": 64,
   "metadata": {},
   "outputs": [
    {
     "data": {
      "text/plain": [
       "[array([2], dtype=int32), ['1721314161.4601753_101571560144409_Track']]"
      ]
     },
     "execution_count": 64,
     "metadata": {},
     "output_type": "execute_result"
    }
   ],
   "source": [
    "dm_manager_proxy = DeviceProxy(DM_TRL)\n",
    "\n",
    "az_init = 0\n",
    "el_init = 40\n",
    "dm_manager_proxy.SetOperateMode()\n",
    "\n",
    "# create an initial table to load with New\n",
    "start_delay = 10\n",
    "tai_start_time = get_current_tai_timestamp() + start_delay\n",
    "start_time_first_table = tai_start_time\n",
    "duration_first_table = 12\n",
    "end_time_first_table = start_time_first_table + duration_first_table\n",
    "track_table = [\n",
    "    start_time_first_table, az_init, el_init,\n",
    "    (end_time_first_table+start_time_first_table)/2, az_init + 15, el_init - 5,\n",
    "    end_time_first_table, az_init + 20, el_init - 7]\n",
    "\n",
    "dm_manager_proxy.trackTableLoadMode = TrackTableLoadMode.NEW\n",
    "dm_manager_proxy.programTrackTable = track_table\n",
    "# start tracking with new table\n",
    "dm_manager_proxy.Track()"
   ]
  },
  {
   "cell_type": "markdown",
   "metadata": {},
   "source": [
    "### Append to TrackTable"
   ]
  },
  {
   "cell_type": "code",
   "execution_count": 65,
   "metadata": {},
   "outputs": [],
   "source": [
    "start_time_second_table = tai_start_time + duration_first_table + 3\n",
    "duration_second_table = 10\n",
    "end_time_second_table = start_time_second_table + duration_second_table\n",
    "track_table_additional = [\n",
    "    start_time_second_table, az_init + 20, el_init - 7,\n",
    "    end_time_second_table, az_init, el_init,\n",
    "]\n",
    "dm_manager_proxy.trackTableLoadMode = TrackTableLoadMode.APPEND\n",
    "dm_manager_proxy.programTrackTable = track_table_additional"
   ]
  },
  {
   "cell_type": "code",
   "execution_count": 60,
   "metadata": {},
   "outputs": [
    {
     "name": "stdout",
     "output_type": "stream",
     "text": [
      "[7.74621808e+08 8.88178420e-16 4.00000000e+01]\n"
     ]
    }
   ],
   "source": [
    "DS_TRL = \"tango://tango-databaseds.miditf-lmc-003-karoo-sims.svc.miditf.internal.skao.int:10000/mid-dish/ds-manager/SKA003\"\n",
    "ds_manager_proxy = DeviceProxy(DS_TRL)\n",
    "print(ds_manager_proxy.achievedPointing)\n"
   ]
  }
 ],
 "metadata": {
  "kernelspec": {
   "display_name": ".venv",
   "language": "python",
   "name": "python3"
  },
  "language_info": {
   "codemirror_mode": {
    "name": "ipython",
    "version": 3
   },
   "file_extension": ".py",
   "mimetype": "text/x-python",
   "name": "python",
   "nbconvert_exporter": "python",
   "pygments_lexer": "ipython3",
   "version": "3.10.13"
  }
 },
 "nbformat": 4,
 "nbformat_minor": 2
}
